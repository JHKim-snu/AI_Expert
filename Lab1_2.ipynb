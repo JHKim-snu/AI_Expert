{
  "nbformat": 4,
  "nbformat_minor": 0,
  "metadata": {
    "colab": {
      "name": "Lab1_2.ipynb",
      "provenance": [],
      "toc_visible": true,
      "include_colab_link": true
    },
    "kernelspec": {
      "name": "python3",
      "display_name": "Python 3"
    }
  },
  "cells": [
    {
      "cell_type": "markdown",
      "metadata": {
        "id": "view-in-github",
        "colab_type": "text"
      },
      "source": [
        "<a href=\"https://colab.research.google.com/github/JHKim-snu/AI_Expert/blob/main/Lab1_2.ipynb\" target=\"_parent\"><img src=\"https://colab.research.google.com/assets/colab-badge.svg\" alt=\"Open In Colab\"/></a>"
      ]
    },
    {
      "cell_type": "markdown",
      "metadata": {
        "id": "_q8J-lixTOlz"
      },
      "source": [
        "# Numpy\n",
        "* Array 및 Tensor들과 관련된 연산을 편리하게 하기 위한 라이브러리이다.\n",
        "* numpy 모듈 설치 후 import numpy (as np)로 import하여 사용하면 된다.\n",
        " * colab에는 기본적으로 설치되어있다."
      ]
    },
    {
      "cell_type": "code",
      "metadata": {
        "id": "Rnsc6PexSyob"
      },
      "source": [
        "import numpy as np\n"
      ],
      "execution_count": null,
      "outputs": []
    },
    {
      "cell_type": "markdown",
      "metadata": {
        "id": "LEceU3VuUXnk"
      },
      "source": [
        "# np.array\n",
        " * python array와 같은 element를 가지는 numpy ndarray를 만드는 함수\n",
        " * np.array(object, dtype=None)\n",
        "  * object : 값을 가져올 python array\n",
        "  * dtype : 각 component가 가질 data type. int, float, bool 등이 있으며, 입력하지 않을 시 object에 맞춰서 자동으로 결정된다.\n",
        "  "
      ]
    },
    {
      "cell_type": "code",
      "metadata": {
        "id": "tCJxtR36UYEL",
        "colab": {
          "base_uri": "https://localhost:8080/",
          "height": 87
        },
        "outputId": "c1444729-84e9-4c5d-d5b0-8dcb601fae23"
      },
      "source": [
        "a = np.array([1, 2, 3, 4, 5])\n",
        "\n",
        "print(a)\n",
        "\n",
        "b = np.array([[1, 2], [3, 4]], dtype=float)\n",
        "\n",
        "print(b)\n",
        "\n",
        "c = np.array([1, 0, 0, 1], dtype=bool)\n",
        "\n",
        "print(c)"
      ],
      "execution_count": null,
      "outputs": [
        {
          "output_type": "stream",
          "text": [
            "[1 2 3 4 5]\n",
            "[[1. 2.]\n",
            " [3. 4.]]\n",
            "[ True False False  True]\n"
          ],
          "name": "stdout"
        }
      ]
    },
    {
      "cell_type": "markdown",
      "metadata": {
        "id": "133crjxnTouM"
      },
      "source": [
        "# shape\n",
        "* numpy array는 **모양(shape)**와 **데이터 타입(dtype)**을 가진다.\n",
        "* 3차원 벡터는 shape가 (3), 5x3 행렬은 shape가 (5, 3), 4x3x2 텐서는 shape가 (4, 3, 2)...와 같은 식\n"
      ]
    },
    {
      "cell_type": "code",
      "metadata": {
        "id": "z5KYYDVwTpH0",
        "colab": {
          "base_uri": "https://localhost:8080/",
          "height": 70
        },
        "outputId": "c600bc9c-c107-4095-cd9d-18f5a6c22232"
      },
      "source": [
        "print(a.shape)\n",
        "print(b.shape)\n",
        "print(c.shape)"
      ],
      "execution_count": null,
      "outputs": [
        {
          "output_type": "stream",
          "text": [
            "(5,)\n",
            "(2, 2)\n",
            "(4,)\n"
          ],
          "name": "stdout"
        }
      ]
    },
    {
      "cell_type": "markdown",
      "metadata": {
        "id": "D5wviHLMWKNF"
      },
      "source": [
        "# np.zeros, np.ones, np.full\n",
        "* 주어진 형태의 numpy array들을 만드는 함수\n",
        "* np.zeros(shape, dtype=None)\n",
        "* np.ones(shape, dtype=None)\n",
        "* np.full(shape, fill_value, dtype=None)\n",
        " * shape : 해당 numpy array가 가질 shape\n",
        " * fill_value : 해당 numpy array에 채울 상수\n",
        " * dtype : 해당 numpy array의 각 component가 가질 data type\n",
        " "
      ]
    },
    {
      "cell_type": "code",
      "metadata": {
        "id": "k_aaaQdtWKgk",
        "colab": {
          "base_uri": "https://localhost:8080/",
          "height": 175
        },
        "outputId": "fe5395b3-3165-4f12-8774-06a894df9361"
      },
      "source": [
        "zeros = np.zeros([3, 3])\n",
        "ones = np.ones([3, 3])\n",
        "twos = np.full([3, 3], 2)\n",
        "\n",
        "print(zeros, zeros.shape)\n",
        "print(ones, ones.shape)\n",
        "print(twos, twos.shape)"
      ],
      "execution_count": null,
      "outputs": [
        {
          "output_type": "stream",
          "text": [
            "[[0. 0. 0.]\n",
            " [0. 0. 0.]\n",
            " [0. 0. 0.]] (3, 3)\n",
            "[[1. 1. 1.]\n",
            " [1. 1. 1.]\n",
            " [1. 1. 1.]] (3, 3)\n",
            "[[2 2 2]\n",
            " [2 2 2]\n",
            " [2 2 2]] (3, 3)\n"
          ],
          "name": "stdout"
        }
      ]
    },
    {
      "cell_type": "markdown",
      "metadata": {
        "id": "ut-Z9j2FXYgM"
      },
      "source": [
        "# Array 연산\n",
        "* 기본적으로 같은 크기의 array끼리 사칙연산이 가능하다.\n",
        "* 이 경우, 같은 위치의 component들끼리 연산된다."
      ]
    },
    {
      "cell_type": "code",
      "metadata": {
        "id": "tOUWN_1GXZBk",
        "colab": {
          "base_uri": "https://localhost:8080/",
          "height": 175
        },
        "outputId": "c3ab399a-2508-4816-ab50-3e9eb521467f"
      },
      "source": [
        "print(zeros + ones)\n",
        "print(ones / twos)\n",
        "print(zeros + ones * twos)"
      ],
      "execution_count": null,
      "outputs": [
        {
          "output_type": "stream",
          "text": [
            "[[1. 1. 1.]\n",
            " [1. 1. 1.]\n",
            " [1. 1. 1.]]\n",
            "[[0.5 0.5 0.5]\n",
            " [0.5 0.5 0.5]\n",
            " [0.5 0.5 0.5]]\n",
            "[[2. 2. 2.]\n",
            " [2. 2. 2.]\n",
            " [2. 2. 2.]]\n"
          ],
          "name": "stdout"
        }
      ]
    },
    {
      "cell_type": "markdown",
      "metadata": {
        "id": "YVtwTKBmuH6q"
      },
      "source": [
        "* ==, <, > 등의 등호/부등호 연산자도 사용가능하며, 이 경우 결과값은 boolean array가 된다."
      ]
    },
    {
      "cell_type": "code",
      "metadata": {
        "id": "khjXmSTXuIPR",
        "colab": {
          "base_uri": "https://localhost:8080/",
          "height": 122
        },
        "outputId": "17e1772e-6f21-4b9c-c13f-5aa6d6eae550"
      },
      "source": [
        "print(zeros == [[0, 0, 0], [0, 0, 0], [0, 0, 0]])\n",
        "print(zeros > ones)\n"
      ],
      "execution_count": null,
      "outputs": [
        {
          "output_type": "stream",
          "text": [
            "[[ True  True  True]\n",
            " [ True  True  True]\n",
            " [ True  True  True]]\n",
            "[[False False False]\n",
            " [False False False]\n",
            " [False False False]]\n"
          ],
          "name": "stdout"
        }
      ]
    },
    {
      "cell_type": "markdown",
      "metadata": {
        "id": "6-TmaKdjXyT8"
      },
      "source": [
        "# Brodacasting\n",
        "* 서로 다른 shape를 가진 array끼리도, 조건이 맞는다면 연산이 가능하다.\n",
        "* 예컨대 a가 n차원이고 b가 1차원이라면 b의 값들을 n차원으로 복제하여 계산하는 식\n",
        "* 차원의 비교는 뒤쪽에서부터 한다.\n",
        "* 정확한 룰은 다음과 같다 :\n",
        " * a의 shape가 [n1, n2, ...nk] 이고, b의 shape가 [m1, m2, ..., ml] 이라 하자.\n",
        " * (i, j) = (k, l)부터 시작하여 i와 j를 1씩 낮춰가며 ni와 mj를 비교한다.(i나 j가 0이 될 때까지)\n",
        " * ni = mj 이라면 차원을 그대로 놔둔다.\n",
        " * ni = 1 이라면, a의 i번째 차원(1차원)을 복제하여 mj차원으로 늘린다.\n",
        " * mj = 1 이라면, b의 j번째 차원(1차원)을 복제하여 ni차원으로 늘린다.\n",
        " * 세 경우 다 아니라면, Broadcasting이 안되는 것이므로 ValueError를 낸다.\n",
        " * i나 j가 0이 되었다면, shape의 길이가 더 작은 쪽(i나 j가 먼저 0이 된 쪽)의 나머지 차원이 모두 1이라고 간주하고 복제하여 더 큰 쪽의 차원에 맞춘다.\n",
        "\n",
        "  \n",
        "  "
      ]
    },
    {
      "cell_type": "markdown",
      "metadata": {
        "id": "fDDojSVcuKyk"
      },
      "source": [
        "<img src=\"https://s3.amazonaws.com/cloudxlab/static/images/course/numpy_pandas_for_ml/Broacasting_2_rule.png\" alt=\"Alt text\" title=\"Optional title\">\n",
        "\n",
        "\n",
        "* 출처: https://s3.amazonaws.com/cloudxlab/static/images/course/numpy_pandas_for_ml/Broacasting_2_rule.png"
      ]
    },
    {
      "cell_type": "code",
      "metadata": {
        "id": "rQ9Ysi1iXyqc",
        "colab": {
          "base_uri": "https://localhost:8080/",
          "height": 281
        },
        "outputId": "c0851642-393e-4e82-9a21-8bdcb31911d2"
      },
      "source": [
        "a = np.array([[1, 2, 3], [4, 5, 6]])\n",
        "print('a :')\n",
        "print(a)\n",
        "print(a.shape)\n",
        "b = np.array([-1, 0, 1])\n",
        "print('\\n\\nb :')\n",
        "print(b)\n",
        "print(b.shape)\n",
        "c = a + b                   # b is broadcasted into shape (2, 3), and become [[-1, 0, 1], [-1, 0, 1]]\n",
        "print('\\n\\na + b :')\n",
        "print(c)\n",
        "print(c.shape)"
      ],
      "execution_count": null,
      "outputs": [
        {
          "output_type": "stream",
          "text": [
            "a :\n",
            "[[1 2 3]\n",
            " [4 5 6]]\n",
            "(2, 3)\n",
            "\n",
            "\n",
            "b :\n",
            "[-1  0  1]\n",
            "(3,)\n",
            "\n",
            "\n",
            "a + b :\n",
            "[[0 2 4]\n",
            " [3 5 7]]\n",
            "(2, 3)\n"
          ],
          "name": "stdout"
        }
      ]
    },
    {
      "cell_type": "markdown",
      "metadata": {
        "id": "WdI4voM1lWin"
      },
      "source": [
        "# Broadcasting : example\n",
        "* 예컨대 64x64 크기의 RGB 이미지 a의 모든 픽셀에 일정한 RGB값 b를 더해주고 싶다고 하자.\n",
        "* 이 때는 그냥 a + b를 해주면 된다.\n",
        "* a의 shape가 [64, 64, 3]이고 b의 shape가 [3]인 경우이므로, 뒤쪽 차원인 3이 같다. 이 경우 b쪽의 shape의 길이가 더 작으므로 b는 [1, 1, 3]의 shape를 가지고 있다고 간주하고, b를 복제하여 [64, 64, 3]의 shape를 갖게 만든다. "
      ]
    },
    {
      "cell_type": "code",
      "metadata": {
        "id": "oSLgPNQtlW63",
        "colab": {
          "base_uri": "https://localhost:8080/",
          "height": 470
        },
        "outputId": "54e05594-1a68-4c3b-dbf7-279c7eccc530"
      },
      "source": [
        "\n",
        "import numpy as np\n",
        "url = 'https://picsum.photos/id/237/200/300'\n",
        "from PIL import Image\n",
        "import requests\n",
        "from io import BytesIO\n",
        "\n",
        "from matplotlib.pyplot import imshow\n",
        "\n",
        "response = requests.get(url)\n",
        "img = Image.open(BytesIO(response.content))\n",
        "a = np.asarray(img)\n",
        "print('a.shape : ', a.shape)\n",
        "b = [64, 64, 64]\n",
        "\n",
        "imshow(a)"
      ],
      "execution_count": 5,
      "outputs": [
        {
          "output_type": "stream",
          "name": "stdout",
          "text": [
            "a.shape :  (300, 200, 3)\n"
          ]
        },
        {
          "output_type": "execute_result",
          "data": {
            "text/plain": [
              "<matplotlib.image.AxesImage at 0x7f3920dbd120>"
            ]
          },
          "metadata": {},
          "execution_count": 5
        },
        {
          "output_type": "display_data",
          "data": {
            "text/plain": [
              "<Figure size 640x480 with 1 Axes>"
            ],
            "image/png": "[encoded data removed]"
          },
          "metadata": {}
        }
      ]
    },
    {
      "cell_type": "code",
      "metadata": {
        "id": "kx2lSVbnoVWJ",
        "colab": {
          "base_uri": "https://localhost:8080/",
          "height": 184
        },
        "outputId": "aabf4198-67d1-42ac-d464-60017ceea97f"
      },
      "source": [
        "print('(a+b).shape : ', (a+b).shape)\n",
        "imshow(a+b)                            # a의 각 픽셀에 [64, 64, 64]를 더한다."
      ],
      "execution_count": 6,
      "outputs": [
        {
          "output_type": "error",
          "ename": "ValueError",
          "evalue": "ignored",
          "traceback": [
            "\u001b[0;31m---------------------------------------------------------------------------\u001b[0m",
            "\u001b[0;31mValueError\u001b[0m                                Traceback (most recent call last)",
            "\u001b[0;32m<ipython-input-6-35f199798aa9>\u001b[0m in \u001b[0;36m<cell line: 1>\u001b[0;34m()\u001b[0m\n\u001b[0;32m----> 1\u001b[0;31m \u001b[0mprint\u001b[0m\u001b[0;34m(\u001b[0m\u001b[0;34m'(a+b).shape : '\u001b[0m\u001b[0;34m,\u001b[0m \u001b[0;34m(\u001b[0m\u001b[0ma\u001b[0m\u001b[0;34m+\u001b[0m\u001b[0mb\u001b[0m\u001b[0;34m)\u001b[0m\u001b[0;34m.\u001b[0m\u001b[0mshape\u001b[0m\u001b[0;34m)\u001b[0m\u001b[0;34m\u001b[0m\u001b[0;34m\u001b[0m\u001b[0m\n\u001b[0m\u001b[1;32m      2\u001b[0m \u001b[0mimshow\u001b[0m\u001b[0;34m(\u001b[0m\u001b[0ma\u001b[0m\u001b[0;34m+\u001b[0m\u001b[0mb\u001b[0m\u001b[0;34m)\u001b[0m                            \u001b[0;31m# a의 각 픽셀에 [64, 64, 64]를 더한다.\u001b[0m\u001b[0;34m\u001b[0m\u001b[0;34m\u001b[0m\u001b[0m\n",
            "\u001b[0;31mValueError\u001b[0m: operands could not be broadcast together with shapes (300,200,3) (2,) "
          ]
        }
      ]
    },
    {
      "cell_type": "markdown",
      "metadata": {
        "id": "Tkoy9l-gqRJB"
      },
      "source": [
        "# Array Indexing\n",
        "* 기본적으로 python의 indexing과 동일하다.\n",
        "* -1   &nbsp;&nbsp;&nbsp;&nbsp;&mdash; 맨 끝 원소\n",
        "* n:m  &nbsp;&mdash; n번째 원소부터 m-1번째 원소까지\n",
        "* :    &nbsp;&nbsp;&nbsp;&nbsp;&nbsp;&nbsp;&nbsp;&mdash; 해당 차원에 있는 원소 전부"
      ]
    },
    {
      "cell_type": "code",
      "metadata": {
        "id": "zPxcAcKfqRkw",
        "colab": {
          "base_uri": "https://localhost:8080/",
          "height": 210
        },
        "outputId": "6a75e5d9-0282-4b4e-c8ea-830a67e9014d"
      },
      "source": [
        "a = np.array([[1, 2, 3], [4, 5, 6], [7, 8, 9]])\n",
        "\n",
        "print(a[0], '\\n')           # a의 0번째 행\n",
        "print(a[1][-1], '\\n')       # a의 1번째 행의 마지막 원소\n",
        "print(a[0:2], '\\n')         # a의 0번째 행~1번째 행\n",
        "print(a[:, 1], '\\n')        # a의 1번째 열 전체\n",
        "print(a[1:-1, :], '\\n')      # a의 1번째 행 ~ 마지막에서 2번째 행 전체\n"
      ],
      "execution_count": null,
      "outputs": [
        {
          "output_type": "stream",
          "text": [
            "[1 2 3] \n",
            "\n",
            "6 \n",
            "\n",
            "[[1 2 3]\n",
            " [4 5 6]] \n",
            "\n",
            "[2 5 8] \n",
            "\n",
            "[[4 5 6]] \n",
            "\n"
          ],
          "name": "stdout"
        }
      ]
    },
    {
      "cell_type": "markdown",
      "metadata": {
        "id": "P8ZCRDXpj82N"
      },
      "source": [
        "#np.sum\n",
        "* 해당 array/tensor의 특정 축을 따라 모든 원소를 더한다. 축이 명시되지 않았다면, 모든 원소를 더한다.\n",
        "* np.sum(a, axis=None, keepdims=False)\n",
        " * a : 해당 array\n",
        " * axis : element를 따라 더할 축의 index\n",
        " * keepdims : True일 경우 해당 축에 1차원 벡터로 남고, False일 경우 해당 축에 (0차원) element로 남는다."
      ]
    },
    {
      "cell_type": "code",
      "metadata": {
        "id": "SO1H7-zoj-R0",
        "colab": {
          "base_uri": "https://localhost:8080/",
          "height": 105
        },
        "outputId": "33b318ca-e6dc-42f6-a645-1d4ecde75e9c"
      },
      "source": [
        "a = np.array([[1, 2, 3], [3, 5, 7]])\n",
        "print(np.sum(a))\n",
        "\n",
        "# a의 shape가 [2, 3]이므로, axis=0으로 하면 첫 번째 축을 따라 더하므로 결과 array의 shape [1, 3]이 된다.\n",
        "# axis=1로 하면 두 번째 축을 따라 더하므로 결과 array의 shape가 [2, 1]이 된다.\n",
        "\n",
        "\n",
        "print(np.sum(a, axis=0, keepdims=True))    #   1    2     3\n",
        "                                           #   |    |     |\n",
        "                                           #   |    |     |\n",
        "                                           #   3    5     7\n",
        "                                           #   |    |     |\n",
        "                                           #   V    V     V\n",
        "                                           #   4    7     10\n",
        "                              \n",
        "print(np.sum(a, axis=1, keepdims=True))    #   -- 1 -- 2 -- 3 --> 6\n",
        "                                           #   -- 3 -- 5 -- 7 --> 15\n",
        "\n",
        "# keepdims=False로 하면 결과 array의 shape가 [2]가 된다.\n",
        "print(np.sum(a, axis=1, keepdims=False))"
      ],
      "execution_count": null,
      "outputs": [
        {
          "output_type": "stream",
          "text": [
            "21\n",
            "[[ 4  7 10]]\n",
            "[[ 6]\n",
            " [15]]\n",
            "[ 6 15]\n"
          ],
          "name": "stdout"
        }
      ]
    },
    {
      "cell_type": "markdown",
      "metadata": {
        "id": "fMS6Il61n1VO"
      },
      "source": [
        "#np.mean, np.std, np.var\n",
        "* 해당 array/tensor의 특정 축을 따라 평균/표준편차/분산을 구한다. 축이 명시되지 않았다면, 모든 원소의 평균/표준편차/분산을 구한다.\n",
        "* np.mean(a, axis=None, keepdims=False)\n",
        "* np.std(a, axis=None, keepdims=False)\n",
        "* np.var(a, axis=None, keepdims=False)"
      ]
    },
    {
      "cell_type": "code",
      "metadata": {
        "id": "qQL2U0Fsn1p0",
        "colab": {
          "base_uri": "https://localhost:8080/",
          "height": 70
        },
        "outputId": "a031ce86-7b43-4573-8414-873b7dbf0633"
      },
      "source": [
        "print(np.mean(a))\n",
        "print(np.std(a, axis=0))\n",
        "print(np.var(a, axis=1))"
      ],
      "execution_count": null,
      "outputs": [
        {
          "output_type": "stream",
          "text": [
            "3.5\n",
            "[1.  1.5 2. ]\n",
            "[0.66666667 2.66666667]\n"
          ],
          "name": "stdout"
        }
      ]
    },
    {
      "cell_type": "markdown",
      "metadata": {
        "id": "IjxFuBQIvFD5"
      },
      "source": [
        "#np.reshape\n",
        "* 해당 numpy array를 주어진 shape로 바꾼다. 이 때, 원래 array의 shape와 바꿀 shape의 총 크기는 같아야 한다.\n",
        "* np.reshape(a, newshape)\n",
        " * a : reshape시킬 array\n",
        " * newshape : 바꿀 shape\n",
        "* 최대 하나의 dimension의 크기를 -1로 입력할 수 있으며, 이 때 해당 dimension의 크기는 나머지 dimension들의 크기에 따라 자동으로 결정된다."
      ]
    },
    {
      "cell_type": "code",
      "metadata": {
        "id": "z6dTgPBsvFVx",
        "colab": {
          "base_uri": "https://localhost:8080/",
          "height": 298
        },
        "outputId": "7a14a638-08f9-4d22-cc40-79b18d3396b9"
      },
      "source": [
        "a = np.array([[1, 2, 3], [4, 5, 6]])\n",
        "print('a')\n",
        "print(a, a.shape)\n",
        "\n",
        "print('\\nb')\n",
        "b = np.reshape(a, [6, 1])\n",
        "print(b, b.shape)\n",
        "\n",
        "print('\\nc')\n",
        "c = np.reshape(a, [3, -1])    #[3, 2]로 자동으로 변환된다.\n",
        "print(c, c.shape)"
      ],
      "execution_count": null,
      "outputs": [
        {
          "output_type": "stream",
          "text": [
            "a\n",
            "[[1 2 3]\n",
            " [4 5 6]] (2, 3)\n",
            "\n",
            "b\n",
            "[[1]\n",
            " [2]\n",
            " [3]\n",
            " [4]\n",
            " [5]\n",
            " [6]] (6, 1)\n",
            "\n",
            "c\n",
            "[[1 2]\n",
            " [3 4]\n",
            " [5 6]] (3, 2)\n"
          ],
          "name": "stdout"
        }
      ]
    },
    {
      "cell_type": "markdown",
      "metadata": {
        "id": "eTunaYkrpMSv"
      },
      "source": [
        "# np.stack\n",
        "* **새로운 축을 만든 뒤** 해당 array들을 해당 축 방향으로 쌓아서 새로운 array를 만든다. 이 때 쌓을 array들의 shape는 완전히 같아야 한다.\n",
        "* np.stack(arrays, axis=0)\n",
        " * arrays : 쌓을 array들\n",
        " * axis : 쌓을 축의 index. axis=-1로 할 시 마지막 축을 따라 쌓는다."
      ]
    },
    {
      "cell_type": "code",
      "metadata": {
        "id": "jyWjZQaUpMmc",
        "colab": {
          "base_uri": "https://localhost:8080/",
          "height": 263
        },
        "outputId": "14178e89-cd28-42d3-c8b7-d2bd7b6ad60d"
      },
      "source": [
        "a = np.array([1, 2, 3])\n",
        "b = np.array([4, 5, 6])\n",
        "c = np.array([4, 5, 6, 7])\n",
        "\n",
        "# shape[3]과 shape[3]을 0번 축을 따라 쌓으므로 결과 array의 shape는 [2, 3]이 된다.\n",
        "print(np.stack((a, b)))\n",
        "\n",
        "# shape[3]과 shape[3]을 1번 축을 따라 쌓으므로 결과 array의 shape는 [3, 2]가 된다. \n",
        "print(np.stack((a, b), axis=1))\n",
        "\n",
        "\n",
        "#print(np.stack((a, c)))  #->  ValueError! 크기가 안 맞으므로 쌓을 수 없다.\n",
        "\n",
        "\n",
        "a = np.array([[1, 2, 3], [4, 5, 6], [7, 8, 9]])\n",
        "b = np.array([[7, 8, 9], [10, 11, 12], [13, 14, 15]])\n",
        "\n",
        "# shape[3, 3]과 shape[3, 3]을 1번 축을 따라 쌓으므로 결과 array의 shape는 [3, 2, 3]이 된다.\n",
        "print()\n",
        "print(np.stack((a, b), axis=1))\n"
      ],
      "execution_count": null,
      "outputs": [
        {
          "output_type": "stream",
          "text": [
            "[[1 2 3]\n",
            " [4 5 6]]\n",
            "[[1 4]\n",
            " [2 5]\n",
            " [3 6]]\n",
            "\n",
            "[[[ 1  2  3]\n",
            "  [ 7  8  9]]\n",
            "\n",
            " [[ 4  5  6]\n",
            "  [10 11 12]]\n",
            "\n",
            " [[ 7  8  9]\n",
            "  [13 14 15]]]\n"
          ],
          "name": "stdout"
        }
      ]
    },
    {
      "cell_type": "markdown",
      "metadata": {
        "id": "uyr_TZHFrOAv"
      },
      "source": [
        "#np.concatenate\n",
        "* 해당 array들을 **기존의 주어진 축 방향으로** 연결한다. 이 때 array들의 shape는 연결할 축을 제외하고 shape가 완전히 같아야 한다.\n",
        "* np.concatenate(arrays, axis=0)\n",
        " * arrays : 연결할 array들\n",
        " * axis : 연결할 축의 index. axis=-1로 할 시 마지막 축을 따라 연결한다."
      ]
    },
    {
      "cell_type": "code",
      "metadata": {
        "id": "ZPvkO3P9rOWV",
        "colab": {
          "base_uri": "https://localhost:8080/",
          "height": 105
        },
        "outputId": "64f80814-4237-4b30-e93d-6384498b89b5"
      },
      "source": [
        "a = np.array([[1, 2], [3, 4]])\n",
        "b = np.array([[5, 6]])\n",
        "\n",
        "\n",
        "# shape[2, 2]와 shape[1, 2]를 0번 축 방향으로 연결하므로 결과 array의 shape는 [3, 2]가 된다.\n",
        "print(np.concatenate((a,b), axis=0))\n",
        "\n",
        "c = np.array([[7, 8, 9], [10, 11, 12]])\n",
        "\n",
        "# shape[2, 2]와 shape[2, 3]을 1번 축 방향으로 연결하므로 결과 array의 shape는 [2, 5]가 된다.\n",
        "print(np.concatenate((a, c), axis=1))"
      ],
      "execution_count": null,
      "outputs": [
        {
          "output_type": "stream",
          "text": [
            "[[1 2]\n",
            " [3 4]\n",
            " [5 6]]\n",
            "[[ 1  2  7  8  9]\n",
            " [ 3  4 10 11 12]]\n"
          ],
          "name": "stdout"
        }
      ]
    },
    {
      "cell_type": "markdown",
      "metadata": {
        "id": "drKIZU2UtS0f"
      },
      "source": [
        "#np.random.random(size)\n",
        "* 각 element가 0에서 1사이의 랜덤한 값들을 가지는 size 크기의 array를 만든다.\n",
        "* 각 element는 서로 독립이며, 모두 uniform random distribution을 따른다.\n",
        "\n",
        "#np.random.randint(low, high=None, size=None)\n",
        "* high가 None일 때 : 각 element가 0 이상 low 이하의 랜덤한 정수인, size 크기의 array를 만든다.\n",
        "* high가 주어졌을 때 : 각 element가 low 이상 high 이하의 랜덤한 정수인, size 크기의 array를 만든다.\n",
        "* 각 element는 서로 독립이며, 범위 내의 각 정수가 나올 확률은 모두 같다.\n",
        "\n",
        "#np.random.normal(loc=0.0, scale=1.0, size=None)\n",
        "* 각 element가 평균이 loc이고 표준편차가 scale인 정규분포에서 추출된, size 크기의 array를 만든다.\n",
        "* 각 element는 서로 독립이며, N(loc, scale^2)의 분포를 가진다."
      ]
    },
    {
      "cell_type": "code",
      "metadata": {
        "id": "AU7YNOlztTHd",
        "colab": {
          "base_uri": "https://localhost:8080/",
          "height": 281
        },
        "outputId": "c65b88fd-1f05-4035-ed59-5d2c8f43be3b"
      },
      "source": [
        "print('np.random.random((2, 3)) :')\n",
        "print(np.random.random(size=(2, 3)))\n",
        "print('\\nnp.random.randint(3, size=(2, 3)) :')\n",
        "print(np.random.randint(3, size=(2, 3)))\n",
        "print('\\nnp.random.randint(3, 8, size=(2, 3)) :')\n",
        "print(np.random.randint(3, 8, size=(2, 3)))\n",
        "print('\\nnp.random.normal(2, 1, size=(2, 3)) :')\n",
        "print(np.random.normal(2, 1, size=(2, 3)))"
      ],
      "execution_count": null,
      "outputs": [
        {
          "output_type": "stream",
          "text": [
            "np.random.random((2, 3)) :\n",
            "[[0.55380521 0.47484035 0.41128984]\n",
            " [0.23645287 0.05808476 0.77312212]]\n",
            "\n",
            "np.random.randint(3, size=(2, 3)) :\n",
            "[[2 2 0]\n",
            " [1 0 1]]\n",
            "\n",
            "np.random.randint(3, 8, size=(2, 3)) :\n",
            "[[3 3 5]\n",
            " [5 7 5]]\n",
            "\n",
            "np.random.normal(2, 1, size=(2, 3)) :\n",
            "[[1.85892876 3.03629825 1.30196629]\n",
            " [1.71492068 1.97904854 1.82491276]]\n"
          ],
          "name": "stdout"
        }
      ]
    },
    {
      "cell_type": "markdown",
      "metadata": {
        "id": "u7wAr5vNEu41"
      },
      "source": [
        "# Numpy array를 파일에 저장하고 불러오기\n",
        "* pickle 라이브러리를 이용하면 편하다.\n",
        "* pickle.dump(array, file) : 해당 array를 file에 저장한다.\n",
        "* pickle.load(f) : 해당 file에서 array를 로드하여 리턴한다."
      ]
    },
    {
      "cell_type": "code",
      "metadata": {
        "id": "72JleLaAEvOy",
        "colab": {
          "base_uri": "https://localhost:8080/",
          "height": 52
        },
        "outputId": "04acc49a-c42b-46b6-b476-44dcfb91ad45"
      },
      "source": [
        "import pickle\n",
        "\n",
        "a = np.array([[1, 2, 3], [4, 5, 6]])\n",
        "with open('./a.pkl', 'wb') as f:\n",
        "  pickle.dump(a, f)\n",
        "\n",
        "with open('./a.pkl', 'rb') as f:\n",
        "  b = pickle.load(f)\n",
        "\n",
        "print(b)"
      ],
      "execution_count": null,
      "outputs": [
        {
          "output_type": "stream",
          "text": [
            "[[1 2 3]\n",
            " [4 5 6]]\n"
          ],
          "name": "stdout"
        }
      ]
    },
    {
      "cell_type": "markdown",
      "metadata": {
        "id": "5KsSpJFmv5cw"
      },
      "source": [
        "# 그 외에 유용한 함수들\n",
        "* 각자 googling해서 정확한 용법을 찾아보세요! numpy를 사용하면서 한번쯤은 꼭 사용하게 될 편리한 함수들입니다.\n",
        "* np.max, np.min : 최대, 최소값을 리턴\n",
        "* np.argmax, np.argmin : 최대, 최소로 만드는 index(들)을 리턴\n",
        "* np.where : 특정 조건을 만족하는 곳에서 x의 값을, 아닌 곳에서 y의 값을 가지는 array를 리턴\n",
        "* np.argwhere : 특정 조건을 만족하는 index(들)을 리턴\n",
        "* np.take : 해당 array에서 해당 index들을 뽑아 만든 array를 리턴\n",
        "* np.sort : 해당 array를 주어진 기준에 대하여 정렬\n",
        "* np.transpose (또는 np.ndarray.T) : 해당 array를 transpose\n",
        "* np.expand_dims : 해당 array에 축을 추가\n",
        "* np.squeeze : 차원 크기가 1인 축을 제거\n",
        "\n",
        "* np.exp, np.log, np.sqrt, np.sin, np.cos, np.tan, ... : element-wise 함수들\n",
        "* np.matmul : 행렬 곱\n",
        "* 등등등... 필요한 게 있을 때는 구글링을 하거나 https://docs.scipy.org/doc/numpy/reference/index.html 를 참조\n"
      ]
    },
    {
      "cell_type": "markdown",
      "metadata": {
        "id": "hWl9YZ03COFD"
      },
      "source": [
        "# pytorch 라이브러리\n",
        "* numpy에 있는 대부분의 함수들과 같은 역할을 pytorch 함수가 존재한다.\n",
        "* numpy의 함수들은 numpy array를 리턴하지만, pytorch의 함수들은 pytorch Tensor들을 리턴한다는 점이 다르다.\n",
        "* np.array -> torch.Tensor\n",
        "* np.sum -> torch.sum\n",
        "* np.reshape -> torch.view\n",
        "* 등등등... 역할은 거의 같으니 필요한 게 있다면 https://pytorch.org/docs/stable/torch.html 를 참조"
      ]
    },
    {
      "cell_type": "code",
      "metadata": {
        "id": "xrxs51KXv-SB",
        "colab": {
          "base_uri": "https://localhost:8080/",
          "height": 70
        },
        "outputId": "6b74f851-7dc0-47dd-ce5a-81047365291b"
      },
      "source": [
        "import torch\n",
        "a = torch.tensor([[1, 2, 3], [4, 5, 6]])\n",
        "a.view([3, 2])"
      ],
      "execution_count": null,
      "outputs": [
        {
          "output_type": "execute_result",
          "data": {
            "text/plain": [
              "tensor([[1, 2],\n",
              "        [3, 4],\n",
              "        [5, 6]])"
            ]
          },
          "metadata": {
            "tags": []
          },
          "execution_count": 19
        }
      ]
    }
  ]
}